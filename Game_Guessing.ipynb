{
  "nbformat": 4,
  "nbformat_minor": 0,
  "metadata": {
    "colab": {
      "provenance": []
    },
    "kernelspec": {
      "name": "python3",
      "display_name": "Python 3"
    },
    "language_info": {
      "name": "python"
    }
  },
  "cells": [
    {
      "cell_type": "code",
      "source": [
        "import random\n",
        "#the level\n",
        "while True:\n",
        "    level = input(\"Choose difficulty level (easy, medium, hard): \").lower()\n",
        "    if level in [\"easy\", \"medium\", \"hard\"]:\n",
        "        break\n",
        "    else:\n",
        "        print(\"❌ Invalid input! Please type only: easy, medium, or hard.\")\n",
        "\n",
        "# each level with range\n",
        "if level == \"easy\":\n",
        "    min_range, max_range = 1, 50\n",
        "elif level == \"medium\":\n",
        "    min_range, max_range = 51, 120\n",
        "elif level == \"hard\":\n",
        "    min_range, max_range = 121, 200\n",
        "\n",
        "max_attempts = 3  # 3 trial only\n",
        "\n",
        "# generate random number\n",
        "secret_number = random.randint(min_range, max_range)\n",
        "attempts = 0\n",
        "\n",
        "# limited trail game\n",
        "for i in range(max_attempts):\n",
        "    try:\n",
        "        guess = int(input(f\"Guess the number (between {min_range} and {max_range}): \"))\n",
        "        attempts += 1\n",
        "\n",
        "        if guess < secret_number:\n",
        "            print(\"Too low!\")\n",
        "        elif guess > secret_number:\n",
        "            print(\"Too high!\")\n",
        "        else:\n",
        "            print(f\"🎉 Correct! You guessed it in {attempts} attempts.\")\n",
        "            score = max_range - (attempts * 2)\n",
        "            print(f\"Your score is: {score}\")\n",
        "            break\n",
        "    except ValueError:\n",
        "        print(\"⚠️ Please enter a valid number.\")\n",
        "\n",
        "else:\n",
        "    print(f\"💥 Game Over! You used all {max_attempts} attempts.\")\n",
        "    print(f\"The correct number was: {secret_number}\")\n"
      ],
      "metadata": {
        "colab": {
          "base_uri": "https://localhost:8080/"
        },
        "id": "FNYFWk2-hMlP",
        "outputId": "c62279a4-99bb-4a45-e055-d9af72494063"
      },
      "execution_count": 30,
      "outputs": [
        {
          "output_type": "stream",
          "name": "stdout",
          "text": [
            "Choose difficulty level (easy, medium, hard): hard\n",
            "Guess the number (between 121 and 200): 200\n",
            "Too high!\n",
            "Guess the number (between 121 and 200): 155\n",
            "Too low!\n",
            "Guess the number (between 121 and 200): 178\n",
            "Too high!\n",
            "💥 Game Over! You used all 3 attempts.\n",
            "The correct number was: 158\n"
          ]
        }
      ]
    },
    {
      "cell_type": "markdown",
      "source": [
        "###  **Project Summary – Guess the Number Game**\n",
        "\n",
        "This is a simple Python game where the computer picks a random number, and the player has to guess it.\n",
        "\n",
        "* The player chooses a difficulty level: easy, medium, or hard.\n",
        "* Each level has a different number range.\n",
        "* The player has 3 chances to guess the number.\n",
        "* After each guess, the game says if the number is too high or too low.\n",
        "* If the player guesses correctly, they get a score.\n",
        "* If all attempts are used, the game shows the correct number.\n",
        "\n",
        "This project uses basic Python: `input`, `if/else`, `loops`, and `random`.\n",
        "\n",
        "\n"
      ],
      "metadata": {
        "id": "tldHXkTms0r-"
      }
    },
    {
      "cell_type": "code",
      "source": [],
      "metadata": {
        "id": "Twt9DyLVs8Oj"
      },
      "execution_count": null,
      "outputs": []
    }
  ]
}